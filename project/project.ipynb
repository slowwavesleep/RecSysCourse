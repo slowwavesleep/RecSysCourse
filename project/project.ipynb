{
 "cells": [
  {
   "cell_type": "code",
   "execution_count": 16,
   "metadata": {},
   "outputs": [
    {
     "ename": "ImportError",
     "evalue": "cannot import name 'train_test_split' from 'src.utils' (/mnt/c/Users/Aleksey/PythonProjects/RecSysCourse/src/utils.py)",
     "output_type": "error",
     "traceback": [
      "\u001b[0;31m---------------------------------------------------------------------------\u001b[0m",
      "\u001b[0;31mImportError\u001b[0m                               Traceback (most recent call last)",
      "\u001b[0;32m<ipython-input-16-905a4b8484f2>\u001b[0m in \u001b[0;36m<module>\u001b[0;34m\u001b[0m\n\u001b[1;32m      8\u001b[0m \u001b[0;34m\u001b[0m\u001b[0m\n\u001b[1;32m      9\u001b[0m \u001b[0;32mfrom\u001b[0m \u001b[0msrc\u001b[0m\u001b[0;34m.\u001b[0m\u001b[0mmetrics\u001b[0m \u001b[0;32mimport\u001b[0m \u001b[0mprecision_at_k\u001b[0m\u001b[0;34m,\u001b[0m \u001b[0mrecall_at_k\u001b[0m\u001b[0;34m\u001b[0m\u001b[0;34m\u001b[0m\u001b[0m\n\u001b[0;32m---> 10\u001b[0;31m \u001b[0;32mfrom\u001b[0m \u001b[0msrc\u001b[0m\u001b[0;34m.\u001b[0m\u001b[0mutils\u001b[0m \u001b[0;32mimport\u001b[0m \u001b[0mpre_filter_items\u001b[0m\u001b[0;34m,\u001b[0m \u001b[0mtrain_test_split\u001b[0m\u001b[0;34m\u001b[0m\u001b[0;34m\u001b[0m\u001b[0m\n\u001b[0m\u001b[1;32m     11\u001b[0m \u001b[0;32mfrom\u001b[0m \u001b[0msrc\u001b[0m\u001b[0;34m.\u001b[0m\u001b[0mrecommenders\u001b[0m \u001b[0;32mimport\u001b[0m \u001b[0mMainRecommender\u001b[0m\u001b[0;34m,\u001b[0m \u001b[0mSecondLevelRecommender\u001b[0m\u001b[0;34m,\u001b[0m \u001b[0mDataTransformer\u001b[0m\u001b[0;34m\u001b[0m\u001b[0;34m\u001b[0m\u001b[0m\n\u001b[1;32m     12\u001b[0m \u001b[0;34m\u001b[0m\u001b[0m\n",
      "\u001b[0;31mImportError\u001b[0m: cannot import name 'train_test_split' from 'src.utils' (/mnt/c/Users/Aleksey/PythonProjects/RecSysCourse/src/utils.py)"
     ]
    }
   ],
   "source": [
    "import pandas as pd\n",
    "import numpy as np\n",
    "\n",
    "import os, sys\n",
    "module_path = os.path.abspath(os.path.join(os.pardir))\n",
    "if module_path not in sys.path:\n",
    "    sys.path.append(module_path)\n",
    "\n",
    "from src.metrics import precision_at_k, recall_at_k\n",
    "from src.utils import pre_filter_items, train_test_split\n",
    "from src.recommenders import MainRecommender, SecondLevelRecommender, DataTransformer\n",
    "\n",
    "import warnings\n",
    "warnings.filterwarnings('ignore')"
   ]
  },
  {
   "cell_type": "code",
   "execution_count": 2,
   "metadata": {},
   "outputs": [],
   "source": [
    "data = pd.read_csv('../data/retail_train.csv')\n",
    "item_features = pd.read_csv('../data/product.csv')\n",
    "user_features = pd.read_csv('../data/hh_demographic.csv')"
   ]
  },
  {
   "cell_type": "code",
   "execution_count": 3,
   "metadata": {},
   "outputs": [],
   "source": [
    "data = pre_filter_items(data, item_features=item_features, take_n_popular=5000)"
   ]
  },
  {
   "cell_type": "code",
   "execution_count": 4,
   "metadata": {},
   "outputs": [],
   "source": [
    "transformer = DataTransformer(data, user_features, item_features)"
   ]
  },
  {
   "cell_type": "code",
   "execution_count": 5,
   "metadata": {},
   "outputs": [],
   "source": [
    "data_train_1, data_valid_1, data_train_2, data_valid_2 = train_test_split(data)"
   ]
  },
  {
   "cell_type": "code",
   "execution_count": 6,
   "metadata": {},
   "outputs": [],
   "source": [
    "recommender = MainRecommender(data_train_1)"
   ]
  },
  {
   "cell_type": "code",
   "execution_count": 7,
   "metadata": {},
   "outputs": [
    {
     "name": "stderr",
     "output_type": "stream",
     "text": [
      "WARNING:root:OpenBLAS detected. Its highly recommend to set the environment variable 'export OPENBLAS_NUM_THREADS=1' to disable its internal multithreading\n"
     ]
    }
   ],
   "source": [
    "recommender.fit(n_factors=40)"
   ]
  },
  {
   "cell_type": "code",
   "execution_count": 8,
   "metadata": {},
   "outputs": [],
   "source": [
    "result_1 = transformer.valid_items(data_valid_1, data_train_1)"
   ]
  },
  {
   "cell_type": "code",
   "execution_count": 9,
   "metadata": {
    "scrolled": true
   },
   "outputs": [],
   "source": [
    "result_1 = recommender.df_als_predictions(result_1)"
   ]
  },
  {
   "cell_type": "markdown",
   "metadata": {},
   "source": [
    "Precision and recall evaluated at level 1 validation data"
   ]
  },
  {
   "cell_type": "code",
   "execution_count": 10,
   "metadata": {},
   "outputs": [
    {
     "data": {
      "text/plain": [
       "0.3527878492057407"
      ]
     },
     "execution_count": 10,
     "metadata": {},
     "output_type": "execute_result"
    }
   ],
   "source": [
    "transformer.eval_recall_at_k(result_1, 'als_candidates')"
   ]
  },
  {
   "cell_type": "code",
   "execution_count": 11,
   "metadata": {},
   "outputs": [
    {
     "data": {
      "text/plain": [
       "0.13783108445776968"
      ]
     },
     "execution_count": 11,
     "metadata": {},
     "output_type": "execute_result"
    }
   ],
   "source": [
    "transformer.eval_precision_at_k(result_1, 'als_candidates')"
   ]
  },
  {
   "cell_type": "markdown",
   "metadata": {},
   "source": [
    "ALS precision at level 2 validation data"
   ]
  },
  {
   "cell_type": "code",
   "execution_count": 12,
   "metadata": {
    "scrolled": true
   },
   "outputs": [
    {
     "data": {
      "text/plain": [
       "0.11030818278427142"
      ]
     },
     "execution_count": 12,
     "metadata": {},
     "output_type": "execute_result"
    }
   ],
   "source": [
    "result_2 = transformer.valid_items(data_valid_2, data_train_1)\n",
    "result_2 = recommender.df_als_predictions(result_2)\n",
    "transformer.eval_precision_at_k(result_2, 'als_candidates')"
   ]
  },
  {
   "cell_type": "code",
   "execution_count": 13,
   "metadata": {},
   "outputs": [],
   "source": [
    "data = transformer.data"
   ]
  },
  {
   "cell_type": "code",
   "execution_count": 14,
   "metadata": {},
   "outputs": [
    {
     "data": {
      "text/plain": [
       "user_id\n",
       "1        64\n",
       "2        33\n",
       "3        36\n",
       "4        28\n",
       "5        23\n",
       "       ... \n",
       "2496     44\n",
       "2497    164\n",
       "2498    110\n",
       "2499     56\n",
       "2500     79\n",
       "Name: total_purchases, Length: 2478, dtype: int64"
      ]
     },
     "execution_count": 14,
     "metadata": {},
     "output_type": "execute_result"
    }
   ],
   "source": [
    "transformer.total_purchases"
   ]
  },
  {
   "cell_type": "code",
   "execution_count": 15,
   "metadata": {},
   "outputs": [
    {
     "data": {
      "text/html": [
       "<div>\n",
       "<style scoped>\n",
       "    .dataframe tbody tr th:only-of-type {\n",
       "        vertical-align: middle;\n",
       "    }\n",
       "\n",
       "    .dataframe tbody tr th {\n",
       "        vertical-align: top;\n",
       "    }\n",
       "\n",
       "    .dataframe thead th {\n",
       "        text-align: right;\n",
       "    }\n",
       "</style>\n",
       "<table border=\"1\" class=\"dataframe\">\n",
       "  <thead>\n",
       "    <tr style=\"text-align: right;\">\n",
       "      <th></th>\n",
       "      <th>user_id</th>\n",
       "      <th>basket_id</th>\n",
       "      <th>day</th>\n",
       "      <th>item_id</th>\n",
       "      <th>quantity</th>\n",
       "      <th>sales_value</th>\n",
       "      <th>store_id</th>\n",
       "      <th>retail_disc</th>\n",
       "      <th>trans_time</th>\n",
       "      <th>week_no</th>\n",
       "      <th>coupon_disc</th>\n",
       "      <th>coupon_match_disc</th>\n",
       "      <th>price</th>\n",
       "      <th>commodity_desc</th>\n",
       "      <th>month</th>\n",
       "      <th>weekend</th>\n",
       "      <th>total_purchases</th>\n",
       "    </tr>\n",
       "  </thead>\n",
       "  <tbody>\n",
       "    <tr>\n",
       "      <th>0</th>\n",
       "      <td>2375</td>\n",
       "      <td>26984851516</td>\n",
       "      <td>1</td>\n",
       "      <td>1085983</td>\n",
       "      <td>1</td>\n",
       "      <td>2.99</td>\n",
       "      <td>364</td>\n",
       "      <td>-0.40</td>\n",
       "      <td>1642</td>\n",
       "      <td>1</td>\n",
       "      <td>0.0</td>\n",
       "      <td>0.0</td>\n",
       "      <td>2.99</td>\n",
       "      <td>COOKIES/CONES</td>\n",
       "      <td>1</td>\n",
       "      <td>False</td>\n",
       "      <td>53</td>\n",
       "    </tr>\n",
       "    <tr>\n",
       "      <th>1</th>\n",
       "      <td>1364</td>\n",
       "      <td>26984896261</td>\n",
       "      <td>1</td>\n",
       "      <td>937406</td>\n",
       "      <td>1</td>\n",
       "      <td>2.50</td>\n",
       "      <td>31742</td>\n",
       "      <td>-0.99</td>\n",
       "      <td>1520</td>\n",
       "      <td>1</td>\n",
       "      <td>0.0</td>\n",
       "      <td>0.0</td>\n",
       "      <td>2.50</td>\n",
       "      <td>BREAKFAST SAUSAGE/SANDWICHES</td>\n",
       "      <td>1</td>\n",
       "      <td>False</td>\n",
       "      <td>90</td>\n",
       "    </tr>\n",
       "    <tr>\n",
       "      <th>2</th>\n",
       "      <td>1172</td>\n",
       "      <td>26985025264</td>\n",
       "      <td>1</td>\n",
       "      <td>1000493</td>\n",
       "      <td>1</td>\n",
       "      <td>4.44</td>\n",
       "      <td>396</td>\n",
       "      <td>-0.89</td>\n",
       "      <td>946</td>\n",
       "      <td>1</td>\n",
       "      <td>0.0</td>\n",
       "      <td>0.0</td>\n",
       "      <td>4.44</td>\n",
       "      <td>PREPARED FOOD</td>\n",
       "      <td>1</td>\n",
       "      <td>False</td>\n",
       "      <td>115</td>\n",
       "    </tr>\n",
       "    <tr>\n",
       "      <th>3</th>\n",
       "      <td>1172</td>\n",
       "      <td>26985025264</td>\n",
       "      <td>1</td>\n",
       "      <td>1075214</td>\n",
       "      <td>1</td>\n",
       "      <td>5.99</td>\n",
       "      <td>396</td>\n",
       "      <td>-3.00</td>\n",
       "      <td>946</td>\n",
       "      <td>1</td>\n",
       "      <td>0.0</td>\n",
       "      <td>0.0</td>\n",
       "      <td>5.99</td>\n",
       "      <td>BATH TISSUES</td>\n",
       "      <td>1</td>\n",
       "      <td>False</td>\n",
       "      <td>115</td>\n",
       "    </tr>\n",
       "    <tr>\n",
       "      <th>4</th>\n",
       "      <td>1172</td>\n",
       "      <td>26985025264</td>\n",
       "      <td>1</td>\n",
       "      <td>5569230</td>\n",
       "      <td>1</td>\n",
       "      <td>2.33</td>\n",
       "      <td>396</td>\n",
       "      <td>-2.26</td>\n",
       "      <td>946</td>\n",
       "      <td>1</td>\n",
       "      <td>0.0</td>\n",
       "      <td>0.0</td>\n",
       "      <td>2.33</td>\n",
       "      <td>SOFT DRINKS</td>\n",
       "      <td>1</td>\n",
       "      <td>False</td>\n",
       "      <td>115</td>\n",
       "    </tr>\n",
       "    <tr>\n",
       "      <th>...</th>\n",
       "      <td>...</td>\n",
       "      <td>...</td>\n",
       "      <td>...</td>\n",
       "      <td>...</td>\n",
       "      <td>...</td>\n",
       "      <td>...</td>\n",
       "      <td>...</td>\n",
       "      <td>...</td>\n",
       "      <td>...</td>\n",
       "      <td>...</td>\n",
       "      <td>...</td>\n",
       "      <td>...</td>\n",
       "      <td>...</td>\n",
       "      <td>...</td>\n",
       "      <td>...</td>\n",
       "      <td>...</td>\n",
       "      <td>...</td>\n",
       "    </tr>\n",
       "    <tr>\n",
       "      <th>620584</th>\n",
       "      <td>1754</td>\n",
       "      <td>41653239425</td>\n",
       "      <td>663</td>\n",
       "      <td>1101010</td>\n",
       "      <td>1</td>\n",
       "      <td>3.02</td>\n",
       "      <td>343</td>\n",
       "      <td>-0.50</td>\n",
       "      <td>1609</td>\n",
       "      <td>95</td>\n",
       "      <td>0.0</td>\n",
       "      <td>0.0</td>\n",
       "      <td>3.02</td>\n",
       "      <td>DELI MEATS</td>\n",
       "      <td>4</td>\n",
       "      <td>False</td>\n",
       "      <td>100</td>\n",
       "    </tr>\n",
       "    <tr>\n",
       "      <th>620585</th>\n",
       "      <td>1754</td>\n",
       "      <td>41653239425</td>\n",
       "      <td>663</td>\n",
       "      <td>5569230</td>\n",
       "      <td>4</td>\n",
       "      <td>10.00</td>\n",
       "      <td>343</td>\n",
       "      <td>-8.76</td>\n",
       "      <td>1609</td>\n",
       "      <td>95</td>\n",
       "      <td>0.0</td>\n",
       "      <td>0.0</td>\n",
       "      <td>2.50</td>\n",
       "      <td>SOFT DRINKS</td>\n",
       "      <td>4</td>\n",
       "      <td>False</td>\n",
       "      <td>100</td>\n",
       "    </tr>\n",
       "    <tr>\n",
       "      <th>620586</th>\n",
       "      <td>2078</td>\n",
       "      <td>41653241879</td>\n",
       "      <td>663</td>\n",
       "      <td>871570</td>\n",
       "      <td>1</td>\n",
       "      <td>2.50</td>\n",
       "      <td>343</td>\n",
       "      <td>-1.29</td>\n",
       "      <td>2129</td>\n",
       "      <td>95</td>\n",
       "      <td>0.0</td>\n",
       "      <td>0.0</td>\n",
       "      <td>2.50</td>\n",
       "      <td>COOKIES/CONES</td>\n",
       "      <td>4</td>\n",
       "      <td>False</td>\n",
       "      <td>45</td>\n",
       "    </tr>\n",
       "    <tr>\n",
       "      <th>620587</th>\n",
       "      <td>2078</td>\n",
       "      <td>41653241879</td>\n",
       "      <td>663</td>\n",
       "      <td>1074754</td>\n",
       "      <td>1</td>\n",
       "      <td>2.68</td>\n",
       "      <td>343</td>\n",
       "      <td>0.00</td>\n",
       "      <td>2129</td>\n",
       "      <td>95</td>\n",
       "      <td>0.0</td>\n",
       "      <td>0.0</td>\n",
       "      <td>2.68</td>\n",
       "      <td>COOKIES/CONES</td>\n",
       "      <td>4</td>\n",
       "      <td>False</td>\n",
       "      <td>45</td>\n",
       "    </tr>\n",
       "    <tr>\n",
       "      <th>620588</th>\n",
       "      <td>2078</td>\n",
       "      <td>41653241879</td>\n",
       "      <td>663</td>\n",
       "      <td>1106523</td>\n",
       "      <td>1</td>\n",
       "      <td>2.89</td>\n",
       "      <td>343</td>\n",
       "      <td>0.00</td>\n",
       "      <td>2129</td>\n",
       "      <td>95</td>\n",
       "      <td>0.0</td>\n",
       "      <td>0.0</td>\n",
       "      <td>2.89</td>\n",
       "      <td>FLUID MILK PRODUCTS</td>\n",
       "      <td>4</td>\n",
       "      <td>False</td>\n",
       "      <td>45</td>\n",
       "    </tr>\n",
       "  </tbody>\n",
       "</table>\n",
       "<p>620589 rows × 17 columns</p>\n",
       "</div>"
      ],
      "text/plain": [
       "        user_id    basket_id  day  item_id  quantity  sales_value  store_id  \\\n",
       "0          2375  26984851516    1  1085983         1         2.99       364   \n",
       "1          1364  26984896261    1   937406         1         2.50     31742   \n",
       "2          1172  26985025264    1  1000493         1         4.44       396   \n",
       "3          1172  26985025264    1  1075214         1         5.99       396   \n",
       "4          1172  26985025264    1  5569230         1         2.33       396   \n",
       "...         ...          ...  ...      ...       ...          ...       ...   \n",
       "620584     1754  41653239425  663  1101010         1         3.02       343   \n",
       "620585     1754  41653239425  663  5569230         4        10.00       343   \n",
       "620586     2078  41653241879  663   871570         1         2.50       343   \n",
       "620587     2078  41653241879  663  1074754         1         2.68       343   \n",
       "620588     2078  41653241879  663  1106523         1         2.89       343   \n",
       "\n",
       "        retail_disc  trans_time  week_no  coupon_disc  coupon_match_disc  \\\n",
       "0             -0.40        1642        1          0.0                0.0   \n",
       "1             -0.99        1520        1          0.0                0.0   \n",
       "2             -0.89         946        1          0.0                0.0   \n",
       "3             -3.00         946        1          0.0                0.0   \n",
       "4             -2.26         946        1          0.0                0.0   \n",
       "...             ...         ...      ...          ...                ...   \n",
       "620584        -0.50        1609       95          0.0                0.0   \n",
       "620585        -8.76        1609       95          0.0                0.0   \n",
       "620586        -1.29        2129       95          0.0                0.0   \n",
       "620587         0.00        2129       95          0.0                0.0   \n",
       "620588         0.00        2129       95          0.0                0.0   \n",
       "\n",
       "        price                commodity_desc  month  weekend  total_purchases  \n",
       "0        2.99                 COOKIES/CONES      1    False               53  \n",
       "1        2.50  BREAKFAST SAUSAGE/SANDWICHES      1    False               90  \n",
       "2        4.44                 PREPARED FOOD      1    False              115  \n",
       "3        5.99                  BATH TISSUES      1    False              115  \n",
       "4        2.33                   SOFT DRINKS      1    False              115  \n",
       "...       ...                           ...    ...      ...              ...  \n",
       "620584   3.02                    DELI MEATS      4    False              100  \n",
       "620585   2.50                   SOFT DRINKS      4    False              100  \n",
       "620586   2.50                 COOKIES/CONES      4    False               45  \n",
       "620587   2.68                 COOKIES/CONES      4    False               45  \n",
       "620588   2.89           FLUID MILK PRODUCTS      4    False               45  \n",
       "\n",
       "[620589 rows x 17 columns]"
      ]
     },
     "execution_count": 15,
     "metadata": {},
     "output_type": "execute_result"
    }
   ],
   "source": [
    "data.merge(transformer.total_purchases, on='user_id', how='left')"
   ]
  },
  {
   "cell_type": "code",
   "execution_count": null,
   "metadata": {},
   "outputs": [],
   "source": [
    "users_lvl_2 = pd.DataFrame(result_lvl_1['user_id'].unique())\n",
    "users_lvl_2.columns = ['user_id']\n",
    "\n",
    "train_users = data_train_lvl_1['user_id'].unique()\n",
    "users_lvl_2 = users_lvl_2[users_lvl_2['user_id'].isin(train_users)]\n",
    "\n",
    "users_lvl_2['candidates'] = users_lvl_2['user_id'].apply(lambda x: recommender.get_als_recommendations(x, 50))\n",
    "\n",
    "s = users_lvl_2.apply(lambda x: pd.Series(x['candidates']), axis=1).stack().reset_index(level=1, drop=True)\n",
    "s.name = 'item_id'\n",
    "\n",
    "users_lvl_2 = users_lvl_2.drop('candidates', axis=1).join(s)\n",
    "users_lvl_2['flag'] = 1\n",
    "\n",
    "users_lvl_2.tail(4)"
   ]
  },
  {
   "cell_type": "code",
   "execution_count": null,
   "metadata": {},
   "outputs": [],
   "source": [
    "data_train_lvl_2 = data_val_lvl_1.copy()"
   ]
  },
  {
   "cell_type": "code",
   "execution_count": null,
   "metadata": {},
   "outputs": [],
   "source": [
    "targets_lvl_2 = data_train_lvl_2[['user_id', 'item_id']].copy()\n",
    "targets_lvl_2['target'] = 1  # тут только покупки \n",
    "\n",
    "targets_lvl_2 = users_lvl_2.merge(targets_lvl_2, on=['user_id', 'item_id'], how='left')\n",
    "\n",
    "targets_lvl_2['target'].fillna(0, inplace= True)\n",
    "targets_lvl_2.drop('flag', axis=1, inplace=True)"
   ]
  },
  {
   "cell_type": "code",
   "execution_count": null,
   "metadata": {
    "scrolled": true
   },
   "outputs": [],
   "source": [
    "targets_lvl_2 = targets_lvl_2.merge(item_features_test, on='item_id', how='left')\n",
    "targets_lvl_2 = targets_lvl_2.merge(user_features_test, on='user_id', how='left')\n",
    "\n",
    "targets_lvl_2.head(2)"
   ]
  },
  {
   "cell_type": "code",
   "execution_count": null,
   "metadata": {},
   "outputs": [],
   "source": [
    "X_train = targets_lvl_2.drop('target', axis=1)\n",
    "y_train = targets_lvl_2['target']"
   ]
  },
  {
   "cell_type": "code",
   "execution_count": null,
   "metadata": {},
   "outputs": [],
   "source": [
    "categorical = ['manufacturer',\n",
    "               'department',\n",
    "               'brand',\n",
    "               'commodity_desc',\n",
    "               'age_desc',\n",
    "               'income_desc',\n",
    "               'household_size_desc']"
   ]
  },
  {
   "cell_type": "code",
   "execution_count": null,
   "metadata": {},
   "outputs": [],
   "source": [
    "X_train[categorical] = X_train[categorical].astype('category')"
   ]
  },
  {
   "cell_type": "code",
   "execution_count": null,
   "metadata": {},
   "outputs": [],
   "source": [
    "recommender_second = SecondLevelRecommender(X_train, y_train, categorical)"
   ]
  },
  {
   "cell_type": "code",
   "execution_count": null,
   "metadata": {},
   "outputs": [],
   "source": [
    "recommender_second.fit()"
   ]
  },
  {
   "cell_type": "code",
   "execution_count": null,
   "metadata": {},
   "outputs": [],
   "source": [
    "train_preds = recommender_second.predict(X_train)"
   ]
  },
  {
   "cell_type": "code",
   "execution_count": null,
   "metadata": {},
   "outputs": [],
   "source": [
    "train_preds"
   ]
  },
  {
   "cell_type": "code",
   "execution_count": null,
   "metadata": {},
   "outputs": [],
   "source": [
    "targets_lvl_2['preds'] = train_preds"
   ]
  },
  {
   "cell_type": "code",
   "execution_count": null,
   "metadata": {},
   "outputs": [],
   "source": [
    "targets_lvl_2.sort_values(['user_id', 'preds'], ascending=[True, False], inplace=True)"
   ]
  },
  {
   "cell_type": "code",
   "execution_count": null,
   "metadata": {},
   "outputs": [],
   "source": [
    "lgb_candidates = targets_lvl_2.groupby('user_id').head(5).groupby('user_id')['item_id'].unique().reset_index()"
   ]
  },
  {
   "cell_type": "code",
   "execution_count": null,
   "metadata": {},
   "outputs": [],
   "source": [
    "valid_lvl_2 = valid_lvl_2.merge(lgb_candidates, on='user_id', how='left')"
   ]
  },
  {
   "cell_type": "code",
   "execution_count": null,
   "metadata": {},
   "outputs": [],
   "source": [
    "valid_lvl_2.rename(columns={'item_id': 'lgb_candidates'}, inplace=True)"
   ]
  },
  {
   "cell_type": "code",
   "execution_count": null,
   "metadata": {},
   "outputs": [],
   "source": [
    "valid_lvl_2[valid_lvl_2.als_candidates.notna()].\\\n",
    "apply(lambda row: precision_at_k(row['lgb_candidates'], row['actual'], k=5), axis=1).mean()"
   ]
  },
  {
   "cell_type": "code",
   "execution_count": null,
   "metadata": {},
   "outputs": [],
   "source": []
  }
 ],
 "metadata": {
  "kernelspec": {
   "display_name": "Python 3",
   "language": "python",
   "name": "python3"
  },
  "language_info": {
   "codemirror_mode": {
    "name": "ipython",
    "version": 3
   },
   "file_extension": ".py",
   "mimetype": "text/x-python",
   "name": "python",
   "nbconvert_exporter": "python",
   "pygments_lexer": "ipython3",
   "version": "3.7.6"
  }
 },
 "nbformat": 4,
 "nbformat_minor": 4
}
