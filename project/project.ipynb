{
 "cells": [
  {
   "cell_type": "code",
   "execution_count": 1,
   "metadata": {},
   "outputs": [],
   "source": [
    "import pandas as pd\n",
    "import numpy as np\n",
    "\n",
    "import os, sys\n",
    "module_path = os.path.abspath(os.path.join(os.pardir))\n",
    "if module_path not in sys.path:\n",
    "    sys.path.append(module_path)\n",
    "\n",
    "from src.metrics import precision_at_k, recall_at_k\n",
    "from src.utils import pre_filter_items, train_test_split\n",
    "from src.recommenders import MainRecommender, SecondLevelRecommender, DataTransformer\n",
    "\n",
    "import warnings\n",
    "warnings.filterwarnings('ignore')"
   ]
  },
  {
   "cell_type": "code",
   "execution_count": 2,
   "metadata": {},
   "outputs": [],
   "source": [
    "data = pd.read_csv('../data/retail_train.csv')\n",
    "item_features = pd.read_csv('../data/product.csv')\n",
    "user_features = pd.read_csv('../data/hh_demographic.csv')"
   ]
  },
  {
   "cell_type": "code",
   "execution_count": 3,
   "metadata": {},
   "outputs": [],
   "source": [
    "data = pre_filter_items(data, item_features=item_features, take_n_popular=5000)"
   ]
  },
  {
   "cell_type": "code",
   "execution_count": 4,
   "metadata": {},
   "outputs": [],
   "source": [
    "transformer = DataTransformer(data, user_features, item_features)"
   ]
  },
  {
   "cell_type": "code",
   "execution_count": 5,
   "metadata": {},
   "outputs": [],
   "source": [
    "transformer.transform()"
   ]
  },
  {
   "cell_type": "code",
   "execution_count": 6,
   "metadata": {},
   "outputs": [],
   "source": [
    "data = transformer.data"
   ]
  },
  {
   "cell_type": "code",
   "execution_count": 7,
   "metadata": {},
   "outputs": [],
   "source": [
    "data_train_1, data_valid_1, data_train_2, data_valid_2 = train_test_split(data)"
   ]
  },
  {
   "cell_type": "code",
   "execution_count": 8,
   "metadata": {},
   "outputs": [],
   "source": [
    "recommender = MainRecommender(data_train_1)"
   ]
  },
  {
   "cell_type": "code",
   "execution_count": 9,
   "metadata": {},
   "outputs": [
    {
     "name": "stderr",
     "output_type": "stream",
     "text": [
      "WARNING:root:OpenBLAS detected. Its highly recommend to set the environment variable 'export OPENBLAS_NUM_THREADS=1' to disable its internal multithreading\n"
     ]
    }
   ],
   "source": [
    "recommender.fit(n_factors=40)"
   ]
  },
  {
   "cell_type": "markdown",
   "metadata": {},
   "source": [
    "Precision@5 и recall@200 на валидационном датасете первого уровня"
   ]
  },
  {
   "cell_type": "code",
   "execution_count": 10,
   "metadata": {},
   "outputs": [],
   "source": [
    "result_1 = transformer.valid_items(data_valid_1, data_train_1)"
   ]
  },
  {
   "cell_type": "code",
   "execution_count": 11,
   "metadata": {
    "scrolled": true
   },
   "outputs": [],
   "source": [
    "result_1 = recommender.df_als_predictions(result_1)"
   ]
  },
  {
   "cell_type": "code",
   "execution_count": 12,
   "metadata": {},
   "outputs": [
    {
     "data": {
      "text/plain": [
       "0.35386055262723093"
      ]
     },
     "execution_count": 12,
     "metadata": {},
     "output_type": "execute_result"
    }
   ],
   "source": [
    "transformer.eval_recall_at_k(result_1, 'als_candidates')"
   ]
  },
  {
   "cell_type": "code",
   "execution_count": 13,
   "metadata": {},
   "outputs": [
    {
     "data": {
      "text/plain": [
       "0.1399300349825073"
      ]
     },
     "execution_count": 13,
     "metadata": {},
     "output_type": "execute_result"
    }
   ],
   "source": [
    "transformer.eval_precision_at_k(result_1, 'als_candidates')"
   ]
  },
  {
   "cell_type": "code",
   "execution_count": 14,
   "metadata": {},
   "outputs": [],
   "source": [
    "data_train_2 = transformer.prepare_train_df(data_train_1, data_train_2, recommender)"
   ]
  },
  {
   "cell_type": "code",
   "execution_count": 15,
   "metadata": {},
   "outputs": [],
   "source": [
    "recommender_second = SecondLevelRecommender(data_train_2, transformer.categorical)"
   ]
  },
  {
   "cell_type": "code",
   "execution_count": 17,
   "metadata": {},
   "outputs": [],
   "source": [
    "recommender_second.fit()"
   ]
  },
  {
   "cell_type": "code",
   "execution_count": 18,
   "metadata": {
    "scrolled": true
   },
   "outputs": [
    {
     "data": {
      "text/html": [
       "<div>\n",
       "<style scoped>\n",
       "    .dataframe tbody tr th:only-of-type {\n",
       "        vertical-align: middle;\n",
       "    }\n",
       "\n",
       "    .dataframe tbody tr th {\n",
       "        vertical-align: top;\n",
       "    }\n",
       "\n",
       "    .dataframe thead th {\n",
       "        text-align: right;\n",
       "    }\n",
       "</style>\n",
       "<table border=\"1\" class=\"dataframe\">\n",
       "  <thead>\n",
       "    <tr style=\"text-align: right;\">\n",
       "      <th></th>\n",
       "      <th>user_id</th>\n",
       "      <th>candidates</th>\n",
       "    </tr>\n",
       "  </thead>\n",
       "  <tbody>\n",
       "    <tr>\n",
       "      <th>0</th>\n",
       "      <td>1</td>\n",
       "      <td>[1029743, 1126899, 1070820, 1106523, 962967]</td>\n",
       "    </tr>\n",
       "    <tr>\n",
       "      <th>1</th>\n",
       "      <td>2</td>\n",
       "      <td>[1029743, 1106523, 1070820, 1126899, 1004906]</td>\n",
       "    </tr>\n",
       "    <tr>\n",
       "      <th>2</th>\n",
       "      <td>4</td>\n",
       "      <td>[1029743, 1106523, 1126899, 1070820, 1004906]</td>\n",
       "    </tr>\n",
       "    <tr>\n",
       "      <th>3</th>\n",
       "      <td>6</td>\n",
       "      <td>[1029743, 1106523, 1126899, 1070820, 854754]</td>\n",
       "    </tr>\n",
       "    <tr>\n",
       "      <th>4</th>\n",
       "      <td>7</td>\n",
       "      <td>[1029743, 1106523, 1126899, 1122358, 1070820]</td>\n",
       "    </tr>\n",
       "  </tbody>\n",
       "</table>\n",
       "</div>"
      ],
      "text/plain": [
       "   user_id                                     candidates\n",
       "0        1   [1029743, 1126899, 1070820, 1106523, 962967]\n",
       "1        2  [1029743, 1106523, 1070820, 1126899, 1004906]\n",
       "2        4  [1029743, 1106523, 1126899, 1070820, 1004906]\n",
       "3        6   [1029743, 1106523, 1126899, 1070820, 854754]\n",
       "4        7  [1029743, 1106523, 1126899, 1122358, 1070820]"
      ]
     },
     "execution_count": 18,
     "metadata": {},
     "output_type": "execute_result"
    }
   ],
   "source": [
    "recs = recommender_second.df_predict()\n",
    "recs.head()"
   ]
  },
  {
   "cell_type": "markdown",
   "metadata": {},
   "source": [
    "Precision@5 на валидационном датасете второго уровня"
   ]
  },
  {
   "cell_type": "code",
   "execution_count": 19,
   "metadata": {},
   "outputs": [
    {
     "data": {
      "text/plain": [
       "0.14572849619660527"
      ]
     },
     "execution_count": 19,
     "metadata": {},
     "output_type": "execute_result"
    }
   ],
   "source": [
    "recommender_second.eval_prediction(data_valid_2, recs)"
   ]
  },
  {
   "cell_type": "code",
   "execution_count": 20,
   "metadata": {},
   "outputs": [
    {
     "data": {
      "text/html": [
       "<div>\n",
       "<style scoped>\n",
       "    .dataframe tbody tr th:only-of-type {\n",
       "        vertical-align: middle;\n",
       "    }\n",
       "\n",
       "    .dataframe tbody tr th {\n",
       "        vertical-align: top;\n",
       "    }\n",
       "\n",
       "    .dataframe thead th {\n",
       "        text-align: right;\n",
       "    }\n",
       "</style>\n",
       "<table border=\"1\" class=\"dataframe\">\n",
       "  <thead>\n",
       "    <tr style=\"text-align: right;\">\n",
       "      <th></th>\n",
       "      <th>user_id</th>\n",
       "      <th>item_id</th>\n",
       "      <th>target</th>\n",
       "      <th>manufacturer</th>\n",
       "      <th>department</th>\n",
       "      <th>brand</th>\n",
       "      <th>commodity_desc</th>\n",
       "      <th>sub_commodity_desc</th>\n",
       "      <th>curr_size_of_product</th>\n",
       "      <th>age_desc</th>\n",
       "      <th>...</th>\n",
       "      <th>user_factor_32</th>\n",
       "      <th>user_factor_33</th>\n",
       "      <th>user_factor_34</th>\n",
       "      <th>user_factor_35</th>\n",
       "      <th>user_factor_36</th>\n",
       "      <th>user_factor_37</th>\n",
       "      <th>user_factor_38</th>\n",
       "      <th>user_factor_39</th>\n",
       "      <th>user_factor_40</th>\n",
       "      <th>preds</th>\n",
       "    </tr>\n",
       "  </thead>\n",
       "  <tbody>\n",
       "    <tr>\n",
       "      <th>129240</th>\n",
       "      <td>1</td>\n",
       "      <td>1004906</td>\n",
       "      <td>1.0</td>\n",
       "      <td>69</td>\n",
       "      <td>PRODUCE</td>\n",
       "      <td>Private</td>\n",
       "      <td>POTATOES</td>\n",
       "      <td>POTATOES RUSSET (BULK&amp;BAG)</td>\n",
       "      <td>5 LB</td>\n",
       "      <td>65+</td>\n",
       "      <td>...</td>\n",
       "      <td>1.194346</td>\n",
       "      <td>1.711777</td>\n",
       "      <td>1.621746</td>\n",
       "      <td>1.097204</td>\n",
       "      <td>9.189105</td>\n",
       "      <td>9.005104</td>\n",
       "      <td>9.935469</td>\n",
       "      <td>-2.756252</td>\n",
       "      <td>-9.645917</td>\n",
       "      <td>0.030068</td>\n",
       "    </tr>\n",
       "    <tr>\n",
       "      <th>129200</th>\n",
       "      <td>1</td>\n",
       "      <td>856942</td>\n",
       "      <td>1.0</td>\n",
       "      <td>159</td>\n",
       "      <td>GROCERY</td>\n",
       "      <td>National</td>\n",
       "      <td>BAKED BREAD/BUNS/ROLLS</td>\n",
       "      <td>FRUIT/BREAKFAST BREAD</td>\n",
       "      <td>16 OZ</td>\n",
       "      <td>65+</td>\n",
       "      <td>...</td>\n",
       "      <td>1.194346</td>\n",
       "      <td>1.711777</td>\n",
       "      <td>1.621746</td>\n",
       "      <td>1.097204</td>\n",
       "      <td>9.189105</td>\n",
       "      <td>9.005104</td>\n",
       "      <td>9.935469</td>\n",
       "      <td>-2.756252</td>\n",
       "      <td>-9.645917</td>\n",
       "      <td>0.029999</td>\n",
       "    </tr>\n",
       "    <tr>\n",
       "      <th>129201</th>\n",
       "      <td>1</td>\n",
       "      <td>856942</td>\n",
       "      <td>1.0</td>\n",
       "      <td>159</td>\n",
       "      <td>GROCERY</td>\n",
       "      <td>National</td>\n",
       "      <td>BAKED BREAD/BUNS/ROLLS</td>\n",
       "      <td>FRUIT/BREAKFAST BREAD</td>\n",
       "      <td>16 OZ</td>\n",
       "      <td>65+</td>\n",
       "      <td>...</td>\n",
       "      <td>1.194346</td>\n",
       "      <td>1.711777</td>\n",
       "      <td>1.621746</td>\n",
       "      <td>1.097204</td>\n",
       "      <td>9.189105</td>\n",
       "      <td>9.005104</td>\n",
       "      <td>9.935469</td>\n",
       "      <td>-2.756252</td>\n",
       "      <td>-9.645917</td>\n",
       "      <td>0.029999</td>\n",
       "    </tr>\n",
       "    <tr>\n",
       "      <th>129205</th>\n",
       "      <td>1</td>\n",
       "      <td>5577022</td>\n",
       "      <td>1.0</td>\n",
       "      <td>1194</td>\n",
       "      <td>GROCERY</td>\n",
       "      <td>National</td>\n",
       "      <td>REFRGRATD JUICES/DRNKS</td>\n",
       "      <td>DAIRY CASE 100% PURE JUICE - O</td>\n",
       "      <td>64 OZ</td>\n",
       "      <td>65+</td>\n",
       "      <td>...</td>\n",
       "      <td>1.194346</td>\n",
       "      <td>1.711777</td>\n",
       "      <td>1.621746</td>\n",
       "      <td>1.097204</td>\n",
       "      <td>9.189105</td>\n",
       "      <td>9.005104</td>\n",
       "      <td>9.935469</td>\n",
       "      <td>-2.756252</td>\n",
       "      <td>-9.645917</td>\n",
       "      <td>0.029999</td>\n",
       "    </tr>\n",
       "    <tr>\n",
       "      <th>129209</th>\n",
       "      <td>1</td>\n",
       "      <td>8293439</td>\n",
       "      <td>1.0</td>\n",
       "      <td>1519</td>\n",
       "      <td>GROCERY</td>\n",
       "      <td>National</td>\n",
       "      <td>FRZN NOVELTIES/WTR ICE</td>\n",
       "      <td>STICKS/ENROBED</td>\n",
       "      <td>6/4 OZ</td>\n",
       "      <td>65+</td>\n",
       "      <td>...</td>\n",
       "      <td>1.194346</td>\n",
       "      <td>1.711777</td>\n",
       "      <td>1.621746</td>\n",
       "      <td>1.097204</td>\n",
       "      <td>9.189105</td>\n",
       "      <td>9.005104</td>\n",
       "      <td>9.935469</td>\n",
       "      <td>-2.756252</td>\n",
       "      <td>-9.645917</td>\n",
       "      <td>0.029999</td>\n",
       "    </tr>\n",
       "    <tr>\n",
       "      <th>129210</th>\n",
       "      <td>1</td>\n",
       "      <td>8293439</td>\n",
       "      <td>1.0</td>\n",
       "      <td>1519</td>\n",
       "      <td>GROCERY</td>\n",
       "      <td>National</td>\n",
       "      <td>FRZN NOVELTIES/WTR ICE</td>\n",
       "      <td>STICKS/ENROBED</td>\n",
       "      <td>6/4 OZ</td>\n",
       "      <td>65+</td>\n",
       "      <td>...</td>\n",
       "      <td>1.194346</td>\n",
       "      <td>1.711777</td>\n",
       "      <td>1.621746</td>\n",
       "      <td>1.097204</td>\n",
       "      <td>9.189105</td>\n",
       "      <td>9.005104</td>\n",
       "      <td>9.935469</td>\n",
       "      <td>-2.756252</td>\n",
       "      <td>-9.645917</td>\n",
       "      <td>0.029999</td>\n",
       "    </tr>\n",
       "    <tr>\n",
       "      <th>129211</th>\n",
       "      <td>1</td>\n",
       "      <td>8293439</td>\n",
       "      <td>1.0</td>\n",
       "      <td>1519</td>\n",
       "      <td>GROCERY</td>\n",
       "      <td>National</td>\n",
       "      <td>FRZN NOVELTIES/WTR ICE</td>\n",
       "      <td>STICKS/ENROBED</td>\n",
       "      <td>6/4 OZ</td>\n",
       "      <td>65+</td>\n",
       "      <td>...</td>\n",
       "      <td>1.194346</td>\n",
       "      <td>1.711777</td>\n",
       "      <td>1.621746</td>\n",
       "      <td>1.097204</td>\n",
       "      <td>9.189105</td>\n",
       "      <td>9.005104</td>\n",
       "      <td>9.935469</td>\n",
       "      <td>-2.756252</td>\n",
       "      <td>-9.645917</td>\n",
       "      <td>0.029999</td>\n",
       "    </tr>\n",
       "    <tr>\n",
       "      <th>129250</th>\n",
       "      <td>1</td>\n",
       "      <td>940947</td>\n",
       "      <td>1.0</td>\n",
       "      <td>2082</td>\n",
       "      <td>MEAT-PCKGD</td>\n",
       "      <td>National</td>\n",
       "      <td>HEAT/SERVE</td>\n",
       "      <td>ENTREES</td>\n",
       "      <td>24 OZ</td>\n",
       "      <td>65+</td>\n",
       "      <td>...</td>\n",
       "      <td>1.194346</td>\n",
       "      <td>1.711777</td>\n",
       "      <td>1.621746</td>\n",
       "      <td>1.097204</td>\n",
       "      <td>9.189105</td>\n",
       "      <td>9.005104</td>\n",
       "      <td>9.935469</td>\n",
       "      <td>-2.756252</td>\n",
       "      <td>-9.645917</td>\n",
       "      <td>0.029999</td>\n",
       "    </tr>\n",
       "    <tr>\n",
       "      <th>129251</th>\n",
       "      <td>1</td>\n",
       "      <td>940947</td>\n",
       "      <td>1.0</td>\n",
       "      <td>2082</td>\n",
       "      <td>MEAT-PCKGD</td>\n",
       "      <td>National</td>\n",
       "      <td>HEAT/SERVE</td>\n",
       "      <td>ENTREES</td>\n",
       "      <td>24 OZ</td>\n",
       "      <td>65+</td>\n",
       "      <td>...</td>\n",
       "      <td>1.194346</td>\n",
       "      <td>1.711777</td>\n",
       "      <td>1.621746</td>\n",
       "      <td>1.097204</td>\n",
       "      <td>9.189105</td>\n",
       "      <td>9.005104</td>\n",
       "      <td>9.935469</td>\n",
       "      <td>-2.756252</td>\n",
       "      <td>-9.645917</td>\n",
       "      <td>0.029999</td>\n",
       "    </tr>\n",
       "    <tr>\n",
       "      <th>129252</th>\n",
       "      <td>1</td>\n",
       "      <td>940947</td>\n",
       "      <td>1.0</td>\n",
       "      <td>2082</td>\n",
       "      <td>MEAT-PCKGD</td>\n",
       "      <td>National</td>\n",
       "      <td>HEAT/SERVE</td>\n",
       "      <td>ENTREES</td>\n",
       "      <td>24 OZ</td>\n",
       "      <td>65+</td>\n",
       "      <td>...</td>\n",
       "      <td>1.194346</td>\n",
       "      <td>1.711777</td>\n",
       "      <td>1.621746</td>\n",
       "      <td>1.097204</td>\n",
       "      <td>9.189105</td>\n",
       "      <td>9.005104</td>\n",
       "      <td>9.935469</td>\n",
       "      <td>-2.756252</td>\n",
       "      <td>-9.645917</td>\n",
       "      <td>0.029999</td>\n",
       "    </tr>\n",
       "    <tr>\n",
       "      <th>129283</th>\n",
       "      <td>1</td>\n",
       "      <td>865456</td>\n",
       "      <td>1.0</td>\n",
       "      <td>317</td>\n",
       "      <td>GROCERY</td>\n",
       "      <td>National</td>\n",
       "      <td>CHEESE</td>\n",
       "      <td>LOAF CHEESE</td>\n",
       "      <td>L     2 LB</td>\n",
       "      <td>65+</td>\n",
       "      <td>...</td>\n",
       "      <td>1.194346</td>\n",
       "      <td>1.711777</td>\n",
       "      <td>1.621746</td>\n",
       "      <td>1.097204</td>\n",
       "      <td>9.189105</td>\n",
       "      <td>9.005104</td>\n",
       "      <td>9.935469</td>\n",
       "      <td>-2.756252</td>\n",
       "      <td>-9.645917</td>\n",
       "      <td>0.029999</td>\n",
       "    </tr>\n",
       "    <tr>\n",
       "      <th>129284</th>\n",
       "      <td>1</td>\n",
       "      <td>865456</td>\n",
       "      <td>1.0</td>\n",
       "      <td>317</td>\n",
       "      <td>GROCERY</td>\n",
       "      <td>National</td>\n",
       "      <td>CHEESE</td>\n",
       "      <td>LOAF CHEESE</td>\n",
       "      <td>L     2 LB</td>\n",
       "      <td>65+</td>\n",
       "      <td>...</td>\n",
       "      <td>1.194346</td>\n",
       "      <td>1.711777</td>\n",
       "      <td>1.621746</td>\n",
       "      <td>1.097204</td>\n",
       "      <td>9.189105</td>\n",
       "      <td>9.005104</td>\n",
       "      <td>9.935469</td>\n",
       "      <td>-2.756252</td>\n",
       "      <td>-9.645917</td>\n",
       "      <td>0.029999</td>\n",
       "    </tr>\n",
       "  </tbody>\n",
       "</table>\n",
       "<p>12 rows × 101 columns</p>\n",
       "</div>"
      ],
      "text/plain": [
       "        user_id  item_id  target  manufacturer  department     brand  \\\n",
       "129240        1  1004906     1.0            69     PRODUCE   Private   \n",
       "129200        1   856942     1.0           159     GROCERY  National   \n",
       "129201        1   856942     1.0           159     GROCERY  National   \n",
       "129205        1  5577022     1.0          1194     GROCERY  National   \n",
       "129209        1  8293439     1.0          1519     GROCERY  National   \n",
       "129210        1  8293439     1.0          1519     GROCERY  National   \n",
       "129211        1  8293439     1.0          1519     GROCERY  National   \n",
       "129250        1   940947     1.0          2082  MEAT-PCKGD  National   \n",
       "129251        1   940947     1.0          2082  MEAT-PCKGD  National   \n",
       "129252        1   940947     1.0          2082  MEAT-PCKGD  National   \n",
       "129283        1   865456     1.0           317     GROCERY  National   \n",
       "129284        1   865456     1.0           317     GROCERY  National   \n",
       "\n",
       "                commodity_desc              sub_commodity_desc  \\\n",
       "129240                POTATOES      POTATOES RUSSET (BULK&BAG)   \n",
       "129200  BAKED BREAD/BUNS/ROLLS           FRUIT/BREAKFAST BREAD   \n",
       "129201  BAKED BREAD/BUNS/ROLLS           FRUIT/BREAKFAST BREAD   \n",
       "129205  REFRGRATD JUICES/DRNKS  DAIRY CASE 100% PURE JUICE - O   \n",
       "129209  FRZN NOVELTIES/WTR ICE                  STICKS/ENROBED   \n",
       "129210  FRZN NOVELTIES/WTR ICE                  STICKS/ENROBED   \n",
       "129211  FRZN NOVELTIES/WTR ICE                  STICKS/ENROBED   \n",
       "129250              HEAT/SERVE                         ENTREES   \n",
       "129251              HEAT/SERVE                         ENTREES   \n",
       "129252              HEAT/SERVE                         ENTREES   \n",
       "129283                  CHEESE                     LOAF CHEESE   \n",
       "129284                  CHEESE                     LOAF CHEESE   \n",
       "\n",
       "       curr_size_of_product age_desc  ... user_factor_32 user_factor_33  \\\n",
       "129240                 5 LB      65+  ...       1.194346       1.711777   \n",
       "129200                16 OZ      65+  ...       1.194346       1.711777   \n",
       "129201                16 OZ      65+  ...       1.194346       1.711777   \n",
       "129205                64 OZ      65+  ...       1.194346       1.711777   \n",
       "129209               6/4 OZ      65+  ...       1.194346       1.711777   \n",
       "129210               6/4 OZ      65+  ...       1.194346       1.711777   \n",
       "129211               6/4 OZ      65+  ...       1.194346       1.711777   \n",
       "129250                24 OZ      65+  ...       1.194346       1.711777   \n",
       "129251                24 OZ      65+  ...       1.194346       1.711777   \n",
       "129252                24 OZ      65+  ...       1.194346       1.711777   \n",
       "129283           L     2 LB      65+  ...       1.194346       1.711777   \n",
       "129284           L     2 LB      65+  ...       1.194346       1.711777   \n",
       "\n",
       "       user_factor_34 user_factor_35 user_factor_36 user_factor_37  \\\n",
       "129240       1.621746       1.097204       9.189105       9.005104   \n",
       "129200       1.621746       1.097204       9.189105       9.005104   \n",
       "129201       1.621746       1.097204       9.189105       9.005104   \n",
       "129205       1.621746       1.097204       9.189105       9.005104   \n",
       "129209       1.621746       1.097204       9.189105       9.005104   \n",
       "129210       1.621746       1.097204       9.189105       9.005104   \n",
       "129211       1.621746       1.097204       9.189105       9.005104   \n",
       "129250       1.621746       1.097204       9.189105       9.005104   \n",
       "129251       1.621746       1.097204       9.189105       9.005104   \n",
       "129252       1.621746       1.097204       9.189105       9.005104   \n",
       "129283       1.621746       1.097204       9.189105       9.005104   \n",
       "129284       1.621746       1.097204       9.189105       9.005104   \n",
       "\n",
       "        user_factor_38  user_factor_39  user_factor_40     preds  \n",
       "129240        9.935469       -2.756252       -9.645917  0.030068  \n",
       "129200        9.935469       -2.756252       -9.645917  0.029999  \n",
       "129201        9.935469       -2.756252       -9.645917  0.029999  \n",
       "129205        9.935469       -2.756252       -9.645917  0.029999  \n",
       "129209        9.935469       -2.756252       -9.645917  0.029999  \n",
       "129210        9.935469       -2.756252       -9.645917  0.029999  \n",
       "129211        9.935469       -2.756252       -9.645917  0.029999  \n",
       "129250        9.935469       -2.756252       -9.645917  0.029999  \n",
       "129251        9.935469       -2.756252       -9.645917  0.029999  \n",
       "129252        9.935469       -2.756252       -9.645917  0.029999  \n",
       "129283        9.935469       -2.756252       -9.645917  0.029999  \n",
       "129284        9.935469       -2.756252       -9.645917  0.029999  \n",
       "\n",
       "[12 rows x 101 columns]"
      ]
     },
     "execution_count": 20,
     "metadata": {},
     "output_type": "execute_result"
    }
   ],
   "source": [
    "recommender_second.data.loc[(recommender_second.data['user_id'] == 1) & (recommender_second.data.target == 1)]"
   ]
  },
  {
   "cell_type": "code",
   "execution_count": null,
   "metadata": {},
   "outputs": [],
   "source": []
  }
 ],
 "metadata": {
  "kernelspec": {
   "display_name": "Python 3",
   "language": "python",
   "name": "python3"
  },
  "language_info": {
   "codemirror_mode": {
    "name": "ipython",
    "version": 3
   },
   "file_extension": ".py",
   "mimetype": "text/x-python",
   "name": "python",
   "nbconvert_exporter": "python",
   "pygments_lexer": "ipython3",
   "version": "3.7.6"
  }
 },
 "nbformat": 4,
 "nbformat_minor": 4
}
